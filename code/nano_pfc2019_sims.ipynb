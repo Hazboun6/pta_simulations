{
 "cells": [
  {
   "cell_type": "markdown",
   "metadata": {
    "ExecuteTime": {
     "end_time": "2018-02-08T22:48:54.174807Z",
     "start_time": "2018-02-08T22:48:54.171135Z"
    },
    "extensions": {
     "jupyter_dashboards": {
      "version": 1,
      "views": {
       "grid_default": {
        "col": 0,
        "height": 4,
        "hidden": false,
        "row": 0,
        "width": 4
       },
       "report_default": {}
      }
     }
    }
   },
   "source": [
    "# PFC 2019 simulations"
   ]
  },
  {
   "cell_type": "code",
   "execution_count": null,
   "metadata": {
    "ExecuteTime": {
     "end_time": "2019-06-13T23:31:35.601910Z",
     "start_time": "2019-06-13T23:31:32.586854Z"
    },
    "extensions": {
     "jupyter_dashboards": {
      "version": 1,
      "views": {
       "grid_default": {
        "hidden": true
       },
       "report_default": {}
      }
     }
    }
   },
   "outputs": [],
   "source": [
    "from __future__ import division\n",
    "\n",
    "%matplotlib inline\n",
    "%config InlineBackend.figure_format = 'retina'\n",
    "%load_ext autoreload\n",
    "%autoreload 2\n",
    "\n",
    "import numpy as np\n",
    "import glob, os\n",
    "import matplotlib.pyplot as plt\n",
    "import matplotlib\n",
    "matplotlib.rcParams['figure.dpi'] = 2.5 * matplotlib.rcParams['figure.dpi']\n",
    "\n",
    "import astropy\n",
    "from astropy.time import Time\n",
    "\n",
    "import enterprise\n",
    "from enterprise.pulsar import Pulsar\n",
    "\n",
    "import enterprise_extensions\n",
    "from enterprise_extensions import models, model_utils\n",
    "\n",
    "import libstempo as T2, libstempo.toasim as LT, libstempo.plot as LP\n",
    "from ephem import Ecliptic, Equatorial"
   ]
  },
  {
   "cell_type": "code",
   "execution_count": null,
   "metadata": {
    "ExecuteTime": {
     "end_time": "2019-06-13T23:31:35.656060Z",
     "start_time": "2019-06-13T23:31:35.605389Z"
    },
    "extensions": {
     "jupyter_dashboards": {
      "version": 1,
      "views": {
       "grid_default": {
        "hidden": true
       },
       "report_default": {}
      }
     }
    }
   },
   "outputs": [],
   "source": [
    "def figsize(scale):\n",
    "    fig_width_pt = 513.17 #469.755                  # Get this from LaTeX using \\the\\textwidth\n",
    "    inches_per_pt = 1.0/72.27                       # Convert pt to inch\n",
    "    golden_mean = (np.sqrt(5.0)-1.0)/2.0            # Aesthetic ratio (you could change this)\n",
    "    fig_width = fig_width_pt*inches_per_pt*scale    # width in inches\n",
    "    fig_height = fig_width*golden_mean              # height in inches\n",
    "    fig_size = [fig_width,fig_height]\n",
    "    return fig_size\n",
    "\n",
    "#plt.rcParams.update(plt.rcParamsDefault)\n",
    "params = {'backend': 'pdf',\n",
    "        'axes.labelsize': 10,\n",
    "        'lines.markersize': 4,\n",
    "        'font.size': 10,\n",
    "        'xtick.major.size':6,\n",
    "        'xtick.minor.size':3,  \n",
    "        'ytick.major.size':6,\n",
    "        'ytick.minor.size':3, \n",
    "        'xtick.major.width':0.5,\n",
    "        'ytick.major.width':0.5,\n",
    "        'xtick.minor.width':0.5,\n",
    "        'ytick.minor.width':0.5,\n",
    "        'lines.markeredgewidth':1,\n",
    "        'axes.linewidth':1.2,\n",
    "        'legend.fontsize': 7,\n",
    "        'xtick.labelsize': 10,\n",
    "        'ytick.labelsize': 10,\n",
    "        'savefig.dpi':200,\n",
    "        'path.simplify':True,\n",
    "        'font.family': 'serif',\n",
    "        'font.serif':'Times',\n",
    "        'text.latex.preamble': [r'\\usepackage{amsmath}',r'\\usepackage{amsbsy}',\n",
    "                                r'\\DeclareMathAlphabet{\\mathcal}{OMS}{cmsy}{m}{n}'],\n",
    "        'text.usetex':True,\n",
    "        'figure.figsize': figsize(0.5)}\n",
    "plt.rcParams.update(params)"
   ]
  },
  {
   "cell_type": "markdown",
   "metadata": {},
   "source": [
    "## Useful functions"
   ]
  },
  {
   "cell_type": "code",
   "execution_count": null,
   "metadata": {
    "ExecuteTime": {
     "end_time": "2019-06-13T23:31:36.244986Z",
     "start_time": "2019-06-13T23:31:35.658973Z"
    }
   },
   "outputs": [],
   "source": [
    "import pandas as pd"
   ]
  },
  {
   "cell_type": "code",
   "execution_count": null,
   "metadata": {
    "ExecuteTime": {
     "end_time": "2019-06-13T23:31:36.415232Z",
     "start_time": "2019-06-13T23:31:36.377066Z"
    }
   },
   "outputs": [],
   "source": [
    "def year2mjd(year):\n",
    "    # rounds to nearest year\n",
    "    return float(Time(\"{}-01-01T00:00:00\".format(str(int(np.rint(year)))), \n",
    "                      format='isot').mjd)\n",
    "\n",
    "def mjd2year(mjd):\n",
    "    return float(Time(mjd, format='mjd').decimalyear)"
   ]
  },
  {
   "cell_type": "markdown",
   "metadata": {},
   "source": [
    "## Process data"
   ]
  },
  {
   "cell_type": "code",
   "execution_count": null,
   "metadata": {
    "ExecuteTime": {
     "end_time": "2019-06-13T23:48:52.781225Z",
     "start_time": "2019-06-13T23:48:52.730463Z"
    }
   },
   "outputs": [],
   "source": [
    "data = pd.read_csv('../data/pfc2019/RMSonlyvsTime2018-GBTAO-StatusQuoNoDSA2000-SimulationI.csv',header=0,skip_blank_lines=True,)"
   ]
  },
  {
   "cell_type": "code",
   "execution_count": null,
   "metadata": {
    "ExecuteTime": {
     "end_time": "2019-06-13T23:48:53.421138Z",
     "start_time": "2019-06-13T23:48:53.174396Z"
    },
    "scrolled": true
   },
   "outputs": [],
   "source": [
    "for ii,name in data.iterrows():\n",
    "    print(name)"
   ]
  },
  {
   "cell_type": "code",
   "execution_count": null,
   "metadata": {},
   "outputs": [],
   "source": [
    "### Make fake dataset\n",
    "for jj,name in data.iterrows():\n",
    "    \n",
    "    psrname = name.PSR\n",
    "    \n",
    "    try:\n",
    "        file = open('../data/pfc2019/popsynth_par_files/' + psrname + '.par', mode='r')\n",
    "        file.close()\n",
    "        par = '../data/pfc2019/popsynth_par_files/' + psrname + '.par'\n",
    "    except:\n",
    "        try:\n",
    "            if psrname == 'J1713+0747':\n",
    "                ext = '.working.t2.par'\n",
    "            else:\n",
    "                ext = '.working.par'\n",
    "            file = open('../data/pfc2019/real_par_files/' + psrname + ext, mode='r')\n",
    "            file.close()\n",
    "            par = '../data/pfc2019/real_par_files/' + psrname + ext\n",
    "        except:\n",
    "            print('need',psrname)"
   ]
  },
  {
   "cell_type": "markdown",
   "metadata": {},
   "source": [
    "## Creating tim files"
   ]
  },
  {
   "cell_type": "code",
   "execution_count": null,
   "metadata": {
    "ExecuteTime": {
     "end_time": "2019-06-13T23:59:19.770245Z",
     "start_time": "2019-06-13T23:59:19.719810Z"
    }
   },
   "outputs": [],
   "source": [
    "sim_type = 'status_quo' # 'status_quo', 'lose_ao', or 'burning_dumptser'"
   ]
  },
  {
   "cell_type": "code",
   "execution_count": null,
   "metadata": {
    "ExecuteTime": {
     "end_time": "2019-06-13T23:59:55.943733Z",
     "start_time": "2019-06-13T23:59:20.476719Z"
    },
    "scrolled": true
   },
   "outputs": [],
   "source": [
    "if not os.path.exists('../data/pfc2019/tim_{}/'.format(sim_type)):\n",
    "    os.makedirs('../data/pfc2019/tim_{}/'.format(sim_type))\n",
    "\n",
    "sims = []\n",
    "start_data = []\n",
    "for jj,name in data.iterrows():\n",
    "    \n",
    "    psrname = name.PSR\n",
    "    \n",
    "    rms = np.array([name.RMS1, name.RMS2, name.RMS3, \n",
    "                    name.RMS4, name.RMS5])\n",
    "    rms[rms=='gap'] = np.inf\n",
    "    rms = np.array(rms,dtype=float)\n",
    "    epoch = np.array([name.Epoch1, name.Epoch2, name.Epoch3, \n",
    "                      name.Epoch4, name.Epoch5])\n",
    "    \n",
    "    ### Start and End year\n",
    "    start_yr = epoch[np.where(~np.isnan(rms))[0][0]]\n",
    "    start_yr_mjd = year2mjd(start_yr)\n",
    "    #\n",
    "    end_yr = 2045.0\n",
    "    end_yr_mjd = year2mjd(end_yr)\n",
    "    \n",
    "    ### Spacing and obstimes\n",
    "    spacing = 365.25 / 20.0 # days between observations\n",
    "    #\n",
    "    obstimes = np.arange(start_yr_mjd, end_yr_mjd, spacing)\n",
    "    # removing data gaps\n",
    "    for kk,rmss in enumerate(rms):\n",
    "        if np.isinf(rmss):\n",
    "            mask = np.logical_and(obstimes >= year2mjd(epoch[kk]), \n",
    "                                  obstimes <= year2mjd(epoch[kk+1]))\n",
    "            obstimes = obstimes[~mask]\n",
    "    \n",
    "    ### Segmenting obstimes based on hardware/telescope switches\n",
    "    stops = list(epoch[np.where(~np.isnan(rms))[0]]) + [end_yr]\n",
    "    stops = [year2mjd(yr) for yr in stops]\n",
    "    errors = list(rms[np.where(~np.isnan(rms))[0]])\n",
    "    \n",
    "    ### Masking sections of data based on these stops\n",
    "    masks = []\n",
    "    for kk,stop in enumerate(stops):\n",
    "        if kk < len(stops)-1:\n",
    "            masks.append(np.logical_and(obstimes >= stops[kk], \n",
    "                                        obstimes <= stops[kk+1]))\n",
    "    \n",
    "    ### Applying RMS errors\n",
    "    toa_errs = np.ones_like(obstimes)\n",
    "    for kk,mask in enumerate(masks):\n",
    "        toa_errs[mask] *= float(errors[kk])\n",
    "    \n",
    "    ### Make fake dataset\n",
    "    try:\n",
    "        file = open('../data/pfc2019/popsynth_par_files/' + psrname + '.par', mode='r')\n",
    "        file.close()\n",
    "        par = '../data/pfc2019/popsynth_par_files/' + psrname + '.par'\n",
    "        \n",
    "        sims.append(LT.fakepulsar(parfile=par, obstimes=obstimes, \n",
    "                                  toaerr=toa_errs, \n",
    "                                  observatory=name.Observatory.lower()))\n",
    "        # white noise\n",
    "        LT.add_efac(sims[jj])\n",
    "        # save .tim\n",
    "        sims[jj].savetim('../data/pfc2019/tim_{}/'.format(sim_type) \n",
    "                             + sims[jj].name + '.tim')\n",
    "        ###\n",
    "        start_data.append([psrname, start_yr, start_yr_mjd])\n",
    "        print(psrname, par, start_yr_mjd, end_yr_mjd, len(stops), len(masks), len(errors))\n",
    "        \n",
    "    except:\n",
    "        if psrname == 'J1713+0747':\n",
    "            ext = '.working.t2.par'\n",
    "        else:\n",
    "            ext = '.working.par'\n",
    "        try:\n",
    "            file = open('../data/pfc2019/real_par_files/' + psrname + ext, mode='r')\n",
    "            file.close()\n",
    "            par = '../data/pfc2019/real_par_files/' + psrname + ext\n",
    "            \n",
    "            sims.append(LT.fakepulsar(parfile=par, obstimes=obstimes, \n",
    "                                  toaerr=toa_errs, \n",
    "                                  observatory=name.Observatory.lower()))\n",
    "            # white noise\n",
    "            LT.add_efac(sims[jj])\n",
    "            # save .tim\n",
    "            sims[jj].savetim('../data/pfc2019/tim_{}/'.format(sim_type) \n",
    "                                 + sims[jj].name + '.tim')\n",
    "            ###\n",
    "            start_data.append([psrname, start_yr, start_yr_mjd])\n",
    "            print(psrname, par, start_yr_mjd, end_yr_mjd, len(stops), len(masks), len(errors))\n",
    "        except:\n",
    "            print('no par file for {}...skipping'.format(psrname))"
   ]
  },
  {
   "cell_type": "code",
   "execution_count": null,
   "metadata": {
    "ExecuteTime": {
     "end_time": "2019-06-13T23:59:59.660768Z",
     "start_time": "2019-06-13T23:59:59.609166Z"
    }
   },
   "outputs": [],
   "source": [
    "#start_data = np.array(start_data)\n",
    "#start_data[start_data[:,1].argsort()]\n",
    "\n",
    "#fil = open('sims_psr_startdata_{}.txt'.format(sim_type),'w')\n",
    "#for line in start_data[start_data[:,1].argsort()]:\n",
    "#    print >>fil, line[0], line[1], line[2]\n",
    "#fil.close()"
   ]
  },
  {
   "cell_type": "markdown",
   "metadata": {},
   "source": [
    "# Read In And Check Pulsars"
   ]
  },
  {
   "cell_type": "code",
   "execution_count": null,
   "metadata": {
    "ExecuteTime": {
     "end_time": "2019-06-14T00:00:00.450238Z",
     "start_time": "2019-06-14T00:00:00.401013Z"
    }
   },
   "outputs": [],
   "source": [
    "import enterprise\n",
    "from enterprise.pulsar import Pulsar\n",
    "from enterprise.signals import parameter\n",
    "from enterprise.signals import white_signals\n",
    "from enterprise.signals import gp_signals\n",
    "from enterprise.signals import signal_base\n",
    "\n",
    "import enterprise_extensions\n",
    "from enterprise_extensions import models, model_utils"
   ]
  },
  {
   "cell_type": "code",
   "execution_count": null,
   "metadata": {
    "ExecuteTime": {
     "end_time": "2019-06-14T00:00:05.013280Z",
     "start_time": "2019-06-14T00:00:01.090229Z"
    }
   },
   "outputs": [],
   "source": [
    "psr_test = Pulsar('../data/pfc2019/real_par_files/J0340+4130.working.par', '../data/pfc2019/tim_status_quo/J0340+4130.tim', ephem='DE436')"
   ]
  },
  {
   "cell_type": "code",
   "execution_count": null,
   "metadata": {
    "ExecuteTime": {
     "end_time": "2019-06-14T00:31:45.832328Z",
     "start_time": "2019-06-14T00:31:44.536861Z"
    }
   },
   "outputs": [],
   "source": [
    "plt.errorbar([mjd2year(p) for p in psr_test.toas/86400.0], \n",
    "             psr_test.residuals/1e-6, psr_test.toaerrs/1e-6, \n",
    "             alpha=0.3, fmt='.')\n",
    "\n",
    "plt.xlabel(r'Year')\n",
    "plt.ylabel(r'Residuals [$\\mu$s]')\n",
    "plt.title(psr_test.name)"
   ]
  }
 ],
 "metadata": {
  "extensions": {
   "jupyter_dashboards": {
    "activeView": "grid_default",
    "version": 1,
    "views": {
     "grid_default": {
      "cellMargin": 10,
      "defaultCellHeight": 20,
      "maxColumns": 12,
      "name": "grid",
      "type": "grid"
     },
     "report_default": {
      "name": "report",
      "type": "report"
     }
    }
   }
  },
  "kernelspec": {
   "display_name": "Python 3",
   "language": "python",
   "name": "python3"
  },
  "language_info": {
   "codemirror_mode": {
    "name": "ipython",
    "version": 3
   },
   "file_extension": ".py",
   "mimetype": "text/x-python",
   "name": "python",
   "nbconvert_exporter": "python",
   "pygments_lexer": "ipython3",
   "version": "3.7.3"
  },
  "toc": {
   "nav_menu": {},
   "number_sections": true,
   "sideBar": true,
   "skip_h1_title": false,
   "toc_cell": false,
   "toc_position": {
    "height": "731px",
    "left": "0px",
    "right": "1228px",
    "top": "106px",
    "width": "212px"
   },
   "toc_section_display": "block",
   "toc_window_display": true
  }
 },
 "nbformat": 4,
 "nbformat_minor": 2
}
