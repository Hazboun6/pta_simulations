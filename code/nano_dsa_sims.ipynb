{
 "cells": [
  {
   "cell_type": "markdown",
   "metadata": {
    "ExecuteTime": {
     "end_time": "2018-02-08T22:48:54.174807Z",
     "start_time": "2018-02-08T22:48:54.171135Z"
    },
    "extensions": {
     "jupyter_dashboards": {
      "version": 1,
      "views": {
       "grid_default": {
        "col": 0,
        "height": 4,
        "hidden": false,
        "row": 0,
        "width": 4
       },
       "report_default": {}
      }
     }
    }
   },
   "source": [
    "# DSA simulations"
   ]
  },
  {
   "cell_type": "code",
   "execution_count": 1,
   "metadata": {
    "ExecuteTime": {
     "end_time": "2018-11-05T00:36:18.222995Z",
     "start_time": "2018-11-05T00:36:15.718960Z"
    },
    "collapsed": true,
    "extensions": {
     "jupyter_dashboards": {
      "version": 1,
      "views": {
       "grid_default": {
        "hidden": true
       },
       "report_default": {}
      }
     }
    }
   },
   "outputs": [],
   "source": [
    "% matplotlib inline\n",
    "%config InlineBackend.figure_format = 'retina'\n",
    "%load_ext line_profiler\n",
    "%load_ext autoreload\n",
    "%autoreload 2\n",
    "\n",
    "from __future__ import division\n",
    "\n",
    "import numpy as np\n",
    "import glob, os\n",
    "import matplotlib.pyplot as plt\n",
    "import matplotlib\n",
    "matplotlib.rcParams['figure.dpi'] = 2.5 * matplotlib.rcParams['figure.dpi']\n",
    "\n",
    "import astropy\n",
    "from astropy.time import Time\n",
    "\n",
    "import enterprise\n",
    "from enterprise.pulsar import Pulsar\n",
    "\n",
    "import enterprise_extensions\n",
    "from enterprise_extensions import models, model_utils\n",
    "\n",
    "import libstempo as T2, libstempo.toasim as LT, libstempo.plot as LP\n",
    "from ephem import Ecliptic, Equatorial\n",
    "\n",
    "datadir = '../partim_no_noise/'"
   ]
  },
  {
   "cell_type": "code",
   "execution_count": 427,
   "metadata": {
    "ExecuteTime": {
     "end_time": "2018-11-05T22:07:48.877308Z",
     "start_time": "2018-11-05T22:07:48.831624Z"
    },
    "collapsed": true,
    "extensions": {
     "jupyter_dashboards": {
      "version": 1,
      "views": {
       "grid_default": {
        "hidden": true
       },
       "report_default": {}
      }
     }
    }
   },
   "outputs": [],
   "source": [
    "def figsize(scale):\n",
    "    fig_width_pt = 513.17 #469.755                  # Get this from LaTeX using \\the\\textwidth\n",
    "    inches_per_pt = 1.0/72.27                       # Convert pt to inch\n",
    "    golden_mean = (np.sqrt(5.0)-1.0)/2.0            # Aesthetic ratio (you could change this)\n",
    "    fig_width = fig_width_pt*inches_per_pt*scale    # width in inches\n",
    "    fig_height = fig_width*golden_mean              # height in inches\n",
    "    fig_size = [fig_width,fig_height]\n",
    "    return fig_size\n",
    "\n",
    "#plt.rcParams.update(plt.rcParamsDefault)\n",
    "params = {'backend': 'pdf',\n",
    "        'axes.labelsize': 10,\n",
    "        'lines.markersize': 4,\n",
    "        'font.size': 10,\n",
    "        'xtick.major.size':6,\n",
    "        'xtick.minor.size':3,  \n",
    "        'ytick.major.size':6,\n",
    "        'ytick.minor.size':3, \n",
    "        'xtick.major.width':0.5,\n",
    "        'ytick.major.width':0.5,\n",
    "        'xtick.minor.width':0.5,\n",
    "        'ytick.minor.width':0.5,\n",
    "        'lines.markeredgewidth':1,\n",
    "        'axes.linewidth':1.2,\n",
    "        'legend.fontsize': 7,\n",
    "        'xtick.labelsize': 10,\n",
    "        'ytick.labelsize': 10,\n",
    "        'savefig.dpi':200,\n",
    "        'path.simplify':True,\n",
    "        'font.family': 'serif',\n",
    "        'font.serif':'Times',\n",
    "        'text.latex.preamble': [r'\\usepackage{amsmath}',r'\\usepackage{amsbsy}',\n",
    "                                r'\\DeclareMathAlphabet{\\mathcal}{OMS}{cmsy}{m}{n}'],\n",
    "        'text.usetex':True,\n",
    "        'figure.figsize': figsize(0.5)}\n",
    "plt.rcParams.update(params)"
   ]
  },
  {
   "cell_type": "markdown",
   "metadata": {},
   "source": [
    "## Useful functions"
   ]
  },
  {
   "cell_type": "code",
   "execution_count": 213,
   "metadata": {
    "ExecuteTime": {
     "end_time": "2018-11-05T04:51:19.484942Z",
     "start_time": "2018-11-05T04:51:19.450257Z"
    },
    "collapsed": true
   },
   "outputs": [],
   "source": [
    "import pandas as pd"
   ]
  },
  {
   "cell_type": "code",
   "execution_count": 273,
   "metadata": {
    "ExecuteTime": {
     "end_time": "2018-11-05T17:30:46.839906Z",
     "start_time": "2018-11-05T17:30:46.770940Z"
    }
   },
   "outputs": [
    {
     "name": "stdout",
     "output_type": "stream",
     "text": [
      "\n"
     ]
    }
   ],
   "source": [
    "# Get (equatorial) position of pulsars from name\n",
    "def pos_from_name(name):\n",
    "    pos = []\n",
    "    for p in name:\n",
    "        if '+' in p:\n",
    "            tmp = p.split('+')\n",
    "            raj = '{0}:{1}:00.00'.format(tmp[0][1:3],tmp[0][3:])\n",
    "            decj = '+{0}:{1}:00.00'.format(tmp[1][:2],tmp[1][2:])\n",
    "        else:\n",
    "            tmp = p.split('-')\n",
    "            raj = '{0}:{1}:00.00'.format(tmp[0][1:3],tmp[0][3:])\n",
    "            decj = '-{0}:{1}:00.00'.format(tmp[1][:2],tmp[1][2:])\n",
    "\n",
    "        eq = Equatorial(raj, decj)\n",
    "        if 'B' in p: epoch = '1950'\n",
    "        elif 'J' in p: epoch= '2000'\n",
    "        ec = Ecliptic(eq, epoch=str(epoch))\n",
    "        pos.append([float(eq.ra), float(eq.dec)])\n",
    "    \n",
    "    return np.array(pos)\n",
    "\n",
    "# Get name of pulsar from (equatorial) position\n",
    "def name_from_pos(pos):\n",
    "    name = []\n",
    "    for p in pos:\n",
    "        eq = Equatorial(p[0], p[1])\n",
    "        ra = str(eq.ra) \n",
    "        dec = str(eq.dec)\n",
    "        #\n",
    "        if float(ra.split(':')[0]) < 10:\n",
    "            ra = '0' + ''.join(ra.split(':')[:2])\n",
    "        else:\n",
    "            ra = ''.join(ra.split(':')[:2])\n",
    "        #\n",
    "        if np.abs(float(dec.split(':')[0])) < 10:\n",
    "            dec = ':'.join(['-0'+dec.split(':')[0][1:],dec.split(':')[1]])\n",
    "        else:\n",
    "            dec = ':'.join(dec.split(':')[:2])\n",
    "        if float(dec.split(':')[0]) < 0:\n",
    "            dec = ''.join(dec.split(':')[:2])\n",
    "        elif float(dec.split(':')[0]) > 0:\n",
    "            dec = '+' + ''.join(dec.split(':')[:2])\n",
    "        else:\n",
    "            dec = ''.join(dec.split(':')[:2])\n",
    "        #\n",
    "        name.append('J' + ra + dec)\n",
    "    \n",
    "    return np.array(name)"
   ]
  },
  {
   "cell_type": "code",
   "execution_count": 252,
   "metadata": {
    "ExecuteTime": {
     "end_time": "2018-11-05T17:08:09.440009Z",
     "start_time": "2018-11-05T17:08:09.395457Z"
    },
    "collapsed": true
   },
   "outputs": [],
   "source": [
    "# Draw new random positions based on a sample\n",
    "def invtran_sample(pos, size):\n",
    "    x, y = pos[:,0], pos[:,1]                     \n",
    "    hist, xbin, ybin = np.histogram2d(x, y, bins=(10, 10))\n",
    "    xbinc = xbin[:-1] + np.diff(xbin)/2.0\n",
    "    ybinc = ybin[:-1] + np.diff(ybin)/2.0\n",
    "    cdf = np.cumsum(hist.ravel())\n",
    "    cdf = cdf / cdf[-1]\n",
    "\n",
    "    values = np.random.rand(size)\n",
    "    value_bins = np.searchsorted(cdf, values)\n",
    "    x_idx, y_idx = np.unravel_index(value_bins,\n",
    "                                    (len(xbinc),\n",
    "                                     len(ybinc)))\n",
    "    delta_x = np.diff(xbin)[0]\n",
    "    delta_y = np.diff(ybin)[0]\n",
    "    random_from_cdf = np.column_stack((xbinc[x_idx] + np.random.uniform(-delta_x/2.0, delta_x/2.0),\n",
    "                                       ybinc[y_idx] + np.random.uniform(-delta_y/2.0, delta_y/2.0)))\n",
    "    return random_from_cdf"
   ]
  },
  {
   "cell_type": "code",
   "execution_count": 432,
   "metadata": {
    "ExecuteTime": {
     "end_time": "2018-11-05T22:14:25.856560Z",
     "start_time": "2018-11-05T22:14:25.818993Z"
    },
    "collapsed": true
   },
   "outputs": [],
   "source": [
    "def year2mjd(year):\n",
    "    # rounds to nearest year\n",
    "    return float(Time(\"{}-01-01T00:00:00\".format(str(int(np.rint(year)))), \n",
    "                      format='isot').mjd)\n",
    "\n",
    "def mjd2year(mjd):\n",
    "    return float(Time(mjd, format='mjd').decimalyear)"
   ]
  },
  {
   "cell_type": "markdown",
   "metadata": {},
   "source": [
    "## Process data"
   ]
  },
  {
   "cell_type": "code",
   "execution_count": 410,
   "metadata": {
    "ExecuteTime": {
     "end_time": "2018-11-05T22:01:47.060496Z",
     "start_time": "2018-11-05T22:01:47.013228Z"
    }
   },
   "outputs": [],
   "source": [
    "data = pd.read_csv('./RMSonlyvsTime2018-DSA2000.csv',header=0,skip_blank_lines=True)"
   ]
  },
  {
   "cell_type": "code",
   "execution_count": 411,
   "metadata": {
    "ExecuteTime": {
     "end_time": "2018-11-05T22:01:47.264743Z",
     "start_time": "2018-11-05T22:01:47.169198Z"
    },
    "collapsed": true
   },
   "outputs": [],
   "source": [
    "# Correcting for mistake in spreadsheet\n",
    "for ii,name in data.iterrows():\n",
    "    if name.Observatory == 'GBT' and name.PSR == 'NEWPSR' and name.Epoch2 >= 2025:\n",
    "        data.iloc[ii,6] = name.RMS3\n",
    "        data.iloc[ii,7] = np.nan\n",
    "        data.iloc[ii,8] = np.nan"
   ]
  },
  {
   "cell_type": "code",
   "execution_count": 412,
   "metadata": {
    "ExecuteTime": {
     "end_time": "2018-11-05T22:01:49.605757Z",
     "start_time": "2018-11-05T22:01:49.497053Z"
    }
   },
   "outputs": [],
   "source": [
    "# names of all real gbt and ao pulsars\n",
    "real_pulsars_gbt = np.array([name.PSR for ii,name in data.iterrows() if 'NEWPSR' not in name.PSR and name.Observatory=='GBT'])\n",
    "real_pulsars_ao = np.array([name.PSR for ii,name in data.iterrows() if 'NEWPSR' not in name.PSR and name.Observatory=='AO'])\n",
    "\n",
    "# names of all fake gbt and ao pulsars (these are all NEWPSR)\n",
    "fake_pulsars_gbt = np.array([name.PSR for ii,name in data.iterrows() if 'NEWPSR' in name.PSR and name.Observatory=='GBT'])\n",
    "fake_pulsars_ao = np.array([name.PSR for ii,name in data.iterrows() if 'NEWPSR' in name.PSR and name.Observatory=='AO'])"
   ]
  },
  {
   "cell_type": "code",
   "execution_count": 413,
   "metadata": {
    "ExecuteTime": {
     "end_time": "2018-11-05T22:01:50.978632Z",
     "start_time": "2018-11-05T22:01:50.940227Z"
    },
    "collapsed": true
   },
   "outputs": [],
   "source": [
    "# Get equatorial positions (ra, dec...in radians) from names\n",
    "pos_pulsars_gbt = pos_from_name(real_pulsars_gbt)\n",
    "pos_pulsars_ao = pos_from_name(real_pulsars_ao)"
   ]
  },
  {
   "cell_type": "code",
   "execution_count": 414,
   "metadata": {
    "ExecuteTime": {
     "end_time": "2018-11-05T22:01:51.580951Z",
     "start_time": "2018-11-05T22:01:51.539474Z"
    }
   },
   "outputs": [],
   "source": [
    "# Generate new fake pulsar positions\n",
    "fakepos_pulsars_gbt = invtran_sample(pos_pulsars_gbt, size=len(fake_pulsars_gbt))\n",
    "fakepos_pulsars_ao = invtran_sample(pos_pulsars_ao, size=len(fake_pulsars_ao))\n",
    "\n",
    "# Generate new fake pulsar names\n",
    "fake_pulsars_gbt = name_from_pos(fakepos_pulsars_gbt)\n",
    "fake_pulsars_ao = name_from_pos(fakepos_pulsars_ao)"
   ]
  },
  {
   "cell_type": "code",
   "execution_count": 415,
   "metadata": {
    "ExecuteTime": {
     "end_time": "2018-11-05T22:01:52.344751Z",
     "start_time": "2018-11-05T22:01:52.243980Z"
    }
   },
   "outputs": [],
   "source": [
    "# Make copy of data frame and replace NEWPSR with new names\n",
    "\n",
    "data_copy = data.copy(deep=True)\n",
    "ct_gbt = 0\n",
    "ct_ao = 0\n",
    "for ii,name in data_copy.iterrows():\n",
    "    \n",
    "    # New GBT pulsars\n",
    "    if name.Observatory == 'GBT' and name.PSR=='NEWPSR':\n",
    "        #tmp_pos = invtran_sample(pos_pulsars_gbt, size=1)\n",
    "        #tmp_name = name_from_pos(tmp_pos)\n",
    "        #data_copy.iloc[ii,0] = tmp_name[0]\n",
    "        data_copy.iloc[ii,0] = fake_pulsars_gbt[ct_gbt]\n",
    "        ct_gbt += 1\n",
    "        \n",
    "    # New AO pulsars\n",
    "    if name.Observatory == 'AO' and name.PSR=='NEWPSR':\n",
    "        #tmp_pos = invtran_sample(pos_pulsars_ao, size=1)\n",
    "        #tmp_name = name_from_pos(tmp_pos)\n",
    "        #data_copy.iloc[ii,0] = tmp_name[0]\n",
    "        data_copy.iloc[ii,0] = fake_pulsars_ao[ct_ao]\n",
    "        ct_ao += 1"
   ]
  },
  {
   "cell_type": "code",
   "execution_count": 416,
   "metadata": {
    "ExecuteTime": {
     "end_time": "2018-11-05T22:01:53.080672Z",
     "start_time": "2018-11-05T22:01:53.039059Z"
    }
   },
   "outputs": [],
   "source": [
    "# Create new data columns for RAJ and DECJ\n",
    "\n",
    "data_copy = data_copy.assign(RAJ=pd.Series(np.concatenate([pos_pulsars_gbt[:,0],\n",
    "                                                           fakepos_pulsars_gbt[:,0],\n",
    "                                                           pos_pulsars_ao[:,0],\n",
    "                                                           fakepos_pulsars_ao[:,0]])).values)\n",
    "\n",
    "data_copy = data_copy.assign(DECJ=pd.Series(np.concatenate([pos_pulsars_gbt[:,1],\n",
    "                                                           fakepos_pulsars_gbt[:,1],\n",
    "                                                           pos_pulsars_ao[:,1],\n",
    "                                                           fakepos_pulsars_ao[:,1]])).values)"
   ]
  },
  {
   "cell_type": "code",
   "execution_count": 440,
   "metadata": {
    "ExecuteTime": {
     "end_time": "2018-11-05T22:20:08.521290Z",
     "start_time": "2018-11-05T22:20:08.475580Z"
    },
    "collapsed": true
   },
   "outputs": [],
   "source": [
    "# Write to csv\n",
    "data_copy.to_csv('./data_copy.csv')"
   ]
  },
  {
   "cell_type": "markdown",
   "metadata": {},
   "source": [
    "## Creating par files"
   ]
  },
  {
   "cell_type": "code",
   "execution_count": 419,
   "metadata": {
    "ExecuteTime": {
     "end_time": "2018-11-05T22:04:03.066521Z",
     "start_time": "2018-11-05T22:04:02.658315Z"
    }
   },
   "outputs": [
    {
     "name": "stdout",
     "output_type": "stream",
     "text": [
      "J0340+4130\n",
      "J0605+3757\n",
      "J0610-2100\n",
      "J0613-0200\n",
      "J0636+5128\n",
      "J0645+5158\n",
      "J0740+6620\n",
      "J0931-1902\n",
      "J1012+5307\n",
      "J1012-4235\n",
      "J1024-0719\n",
      "J1125+7819\n",
      "J1455-3330\n",
      "J1600-3053\n",
      "J1614-2230\n",
      "J1630+3734\n",
      "J1643-1224\n",
      "J1705-1903\n",
      "J1719-1438\n",
      "J1730-2304\n",
      "J1744-1134\n",
      "J1747-4036\n",
      "J1751-2857\n",
      "J1802-2124\n",
      "J1811-2405\n",
      "J1832-0836\n",
      "J1843-1113\n",
      "J1909-3744\n",
      "J1911-1114\n",
      "J1918-0642\n",
      "J2010-1323\n",
      "J2124-3358\n",
      "J2145-0750\n",
      "J2302+4442\n",
      "J1722-2637\n",
      "J1722-1432\n",
      "J0938-3842\n",
      "J0545+4554\n",
      "J1722-1432\n",
      "J0938+4554\n",
      "J2115+4554\n",
      "J1526-2637\n",
      "J0938-3842\n",
      "J1919-1432\n",
      "J1134+7005\n",
      "J0545+4554\n",
      "J1722-1432\n",
      "J0938-2637\n",
      "J0545-0226\n",
      "J1722-3842\n",
      "J1526-2637\n",
      "J1722-1432\n",
      "J1919-1432\n",
      "J1722-1432\n",
      "J1722-2637\n",
      "J0545+4554\n",
      "J1919-1432\n",
      "J1722-2637\n",
      "J1722-1432\n",
      "J1526+3349\n",
      "J0545+4554\n",
      "J1722-3842\n",
      "J1330-3842\n",
      "J1722-1432\n",
      "J0938-3842\n",
      "J1526+3349\n",
      "J1330-3842\n",
      "J1526-3842\n",
      "J0938+4554\n",
      "J1722-2637\n",
      "J1722-2637\n",
      "J0741+7005\n",
      "J0545-2637\n",
      "J1526+3349\n",
      "J1722-1432\n",
      "J1722-3842\n",
      "J0938-2637\n",
      "J1526-1432\n",
      "J0023+0923\n",
      "J0030+0451\n",
      "J0337+1715\n",
      "J0406+3039\n",
      "J0509+0856\n",
      "J0557+1551\n",
      "J0621+2514\n",
      "J0709+0458\n",
      "J1022+1001\n",
      "B1257+12\n",
      "J1312+0051\n",
      "J1453+1902\n",
      "J1640+2224\n",
      "J1713+0747\n",
      "J1738+0333\n",
      "J1741+1351\n",
      "J1745+1017\n",
      "J1853+1303\n",
      "B1855+09\n",
      "J1903+0327\n",
      "J1910+1256\n",
      "J1911+1347\n",
      "J1923+2515\n",
      "J1944+0907\n",
      "J1946+3417\n",
      "B1953+29\n",
      "J2017+0603\n",
      "J2033+1734\n",
      "J2043+1711\n",
      "J2214+3000\n",
      "J2229+2643\n",
      "J2234+0611\n",
      "J2234+0944\n",
      "J2317+1439\n",
      "J2322+2057\n",
      "J0318+1454\n",
      "J1923+1133\n",
      "J1705-032\n",
      "J1923-013\n",
      "J1705-013\n",
      "J2141+1454\n",
      "J0318+1454\n",
      "J0536+1454\n",
      "J1705+1133\n",
      "J1229+1133\n",
      "J1923+3137\n",
      "J2141-052\n",
      "J1705-013\n",
      "J1705-032\n",
      "J1923+1133\n",
      "J1923+1133\n",
      "J1705+2135\n",
      "J2141+2456\n",
      "J1705-013\n",
      "J1923+1133\n",
      "J0536+1454\n",
      "J1923+1133\n",
      "J2141+2816\n",
      "J2141+2135\n",
      "J2141-013\n",
      "J1705-013\n",
      "J1923+2456\n",
      "J1923+1133\n",
      "J1923-013\n",
      "J1923-013\n",
      "J1705-032\n",
      "J0536-013\n",
      "J0100-013\n",
      "J1229+1133\n",
      "J2141-052\n",
      "J0536+1454\n",
      "J2141-052\n",
      "J1923+2816\n",
      "J1229+1133\n",
      "J2141+2135\n",
      "J1923+2816\n",
      "J1923+1133\n",
      "J2141+2135\n",
      "J1447+1815\n"
     ]
    }
   ],
   "source": [
    "for ii,name in data_copy.iterrows():\n",
    "    \n",
    "    # Get coordinates for par file\n",
    "    tmp = Equatorial(data_copy.iloc[ii].RAJ, data_copy.iloc[ii].DECJ, epoch='2000')\n",
    "    \n",
    "    # Set PEPOCHs to be 5 years in\n",
    "    if np.isnan(name.RMS1):\n",
    "        start = name.Epoch2\n",
    "    else:\n",
    "        start = name.Epoch1\n",
    "    \n",
    "    with open('./template.par', 'r') as fil:\n",
    "        pardata = fil.read()\n",
    "        \n",
    "    with open('./partim/' + name.PSR + '.par', 'w') as filnew:\n",
    "        for line in pardata.split('\\n'):\n",
    "            if 'PSR' in line:\n",
    "                print >>filnew, '\\t\\t'.join([line.split()[0], name.PSR])\n",
    "            elif 'RAJ' in line:\n",
    "                print >>filnew, '\\t\\t'.join([line.split()[0], str(tmp.ra), \n",
    "                                         line.split()[2], line.split()[3]])\n",
    "            elif 'DECJ' in line:\n",
    "                print >>filnew, '\\t\\t'.join([line.split()[0], str(tmp.dec), \n",
    "                                         line.split()[2], line.split()[3]])\n",
    "            elif 'PEPOCH' in line or 'POSEPOCH' in line or 'DMEPOCH' in line:\n",
    "                print >>filnew, '\\t\\t'.join([line.split()[0], str(int(year2mjd(start+5)))])\n",
    "            else:\n",
    "                print >>filnew, line\n",
    "    print name.PSR"
   ]
  },
  {
   "cell_type": "markdown",
   "metadata": {},
   "source": [
    "## Creating tim files"
   ]
  },
  {
   "cell_type": "code",
   "execution_count": 441,
   "metadata": {
    "ExecuteTime": {
     "end_time": "2018-11-05T22:23:08.719736Z",
     "start_time": "2018-11-05T22:22:37.871125Z"
    },
    "scrolled": true
   },
   "outputs": [
    {
     "name": "stdout",
     "output_type": "stream",
     "text": [
      "J0340+4130 ./partim/J0340+4130.par 55927.0 67981.0 4 3 3\n",
      "J0605+3757 ./partim/J0605+3757.par 57754.0 67981.0 4 3 3\n",
      "J0610-2100 ./partim/J0610-2100.par 57754.0 67981.0 4 3 3\n",
      "J0613-0200 ./partim/J0613-0200.par 53371.0 67981.0 5 4 4\n",
      "J0636+5128 ./partim/J0636+5128.par 56658.0 67981.0 4 3 3\n",
      "J0645+5158 ./partim/J0645+5158.par 55562.0 67981.0 4 3 3\n",
      "J0740+6620 ./partim/J0740+6620.par 56658.0 67981.0 4 3 3\n",
      "J0931-1902 ./partim/J0931-1902.par 56293.0 67981.0 4 3 3\n",
      "J1012+5307 ./partim/J1012+5307.par 53371.0 67981.0 5 4 4\n",
      "J1012-4235 ./partim/J1012-4235.par 57754.0 67981.0 4 3 3\n",
      "J1024-0719 ./partim/J1024-0719.par 55197.0 67981.0 4 3 3\n",
      "J1125+7819 ./partim/J1125+7819.par 56658.0 67981.0 4 3 3\n",
      "J1455-3330 ./partim/J1455-3330.par 53371.0 67981.0 5 4 4\n",
      "J1600-3053 ./partim/J1600-3053.par 54466.0 67981.0 5 4 4\n",
      "J1614-2230 ./partim/J1614-2230.par 54832.0 67981.0 5 4 4\n",
      "J1630+3734 ./partim/J1630+3734.par 57754.0 67981.0 4 3 3\n",
      "J1643-1224 ./partim/J1643-1224.par 53371.0 67981.0 5 4 4\n",
      "J1705-1903 ./partim/J1705-1903.par 57754.0 67981.0 4 3 3\n",
      "J1719-1438 ./partim/J1719-1438.par 57754.0 67981.0 4 3 3\n",
      "J1730-2304 ./partim/J1730-2304.par 57754.0 67981.0 4 3 3\n",
      "J1744-1134 ./partim/J1744-1134.par 53371.0 67981.0 5 4 4\n",
      "J1747-4036 ./partim/J1747-4036.par 55927.0 67981.0 4 3 3\n",
      "J1751-2857 ./partim/J1751-2857.par 57754.0 67981.0 4 3 3\n",
      "J1802-2124 ./partim/J1802-2124.par 57754.0 67981.0 4 3 3\n",
      "J1811-2405 ./partim/J1811-2405.par 57754.0 67981.0 4 3 3\n",
      "J1832-0836 ./partim/J1832-0836.par 56293.0 67981.0 4 3 3\n",
      "J1843-1113 ./partim/J1843-1113.par 57754.0 67981.0 4 3 3\n",
      "J1909-3744 ./partim/J1909-3744.par 53371.0 67981.0 5 4 4\n",
      "J1911-1114 ./partim/J1911-1114.par 57754.0 67981.0 4 3 3\n",
      "J1918-0642 ./partim/J1918-0642.par 53371.0 67981.0 5 4 4\n",
      "J2010-1323 ./partim/J2010-1323.par 54832.0 67981.0 5 4 4\n",
      "J2124-3358 ./partim/J2124-3358.par 57754.0 67981.0 4 3 3\n",
      "J2145-0750 ./partim/J2145-0750.par 53371.0 67981.0 5 4 4\n",
      "J2302+4442 ./partim/J2302+4442.par 55927.0 67981.0 4 3 3\n",
      "J1722-2637 ./partim/J1722-2637.par 58484.0 67981.0 4 3 3\n",
      "J1722-1432 ./partim/J1722-1432.par 58484.0 67981.0 4 3 3\n",
      "J0938-3842 ./partim/J0938-3842.par 58849.0 67981.0 3 2 2\n",
      "J0545+4554 ./partim/J0545+4554.par 58849.0 67981.0 3 2 2\n",
      "J1722-1432 ./partim/J1722-1432.par 59215.0 67981.0 3 2 2\n",
      "J0938+4554 ./partim/J0938+4554.par 59215.0 67981.0 3 2 2\n",
      "J2115+4554 ./partim/J2115+4554.par 59580.0 67981.0 3 2 2\n",
      "J1526-2637 ./partim/J1526-2637.par 59580.0 67981.0 3 2 2\n",
      "J0938-3842 ./partim/J0938-3842.par 59945.0 67981.0 3 2 2\n",
      "J1919-1432 ./partim/J1919-1432.par 59945.0 67981.0 3 2 2\n",
      "J1134+7005 ./partim/J1134+7005.par 60310.0 67981.0 3 2 2\n",
      "J0545+4554 ./partim/J0545+4554.par 60310.0 67981.0 3 2 2\n",
      "J1722-1432 ./partim/J1722-1432.par 60676.0 67981.0 2 1 1\n",
      "J0938-2637 ./partim/J0938-2637.par 60676.0 67981.0 2 1 1\n",
      "J0545-0226 ./partim/J0545-0226.par 61041.0 67981.0 2 1 1\n",
      "J1722-3842 ./partim/J1722-3842.par 61041.0 67981.0 2 1 1\n",
      "J1526-2637 ./partim/J1526-2637.par 61406.0 67981.0 2 1 1\n",
      "J1722-1432 ./partim/J1722-1432.par 61406.0 67981.0 2 1 1\n",
      "J1919-1432 ./partim/J1919-1432.par 61771.0 67981.0 2 1 1\n",
      "J1722-1432 ./partim/J1722-1432.par 61771.0 67981.0 2 1 1\n",
      "J1722-2637 ./partim/J1722-2637.par 62137.0 67981.0 2 1 1\n",
      "J0545+4554 ./partim/J0545+4554.par 62137.0 67981.0 2 1 1\n",
      "J1919-1432 ./partim/J1919-1432.par 62502.0 67981.0 2 1 1\n",
      "J1722-2637 ./partim/J1722-2637.par 62502.0 67981.0 2 1 1\n",
      "J1722-1432 ./partim/J1722-1432.par 62867.0 67981.0 2 1 1\n",
      "J1526+3349 ./partim/J1526+3349.par 62867.0 67981.0 2 1 1\n",
      "J0545+4554 ./partim/J0545+4554.par 63232.0 67981.0 2 1 1\n",
      "J1722-3842 ./partim/J1722-3842.par 63232.0 67981.0 2 1 1\n",
      "J1330-3842 ./partim/J1330-3842.par 63598.0 67981.0 2 1 1\n",
      "J1722-1432 ./partim/J1722-1432.par 63598.0 67981.0 2 1 1\n",
      "J0938-3842 ./partim/J0938-3842.par 63963.0 67981.0 2 1 1\n",
      "J1526+3349 ./partim/J1526+3349.par 63963.0 67981.0 2 1 1\n",
      "J1330-3842 ./partim/J1330-3842.par 64328.0 67981.0 2 1 1\n",
      "J1526-3842 ./partim/J1526-3842.par 64328.0 67981.0 2 1 1\n",
      "J0938+4554 ./partim/J0938+4554.par 64693.0 67981.0 2 1 1\n",
      "J1722-2637 ./partim/J1722-2637.par 64693.0 67981.0 2 1 1\n",
      "J1722-2637 ./partim/J1722-2637.par 65059.0 67981.0 2 1 1\n",
      "J0741+7005 ./partim/J0741+7005.par 65059.0 67981.0 2 1 1\n",
      "J0545-2637 ./partim/J0545-2637.par 65424.0 67981.0 2 1 1\n",
      "J1526+3349 ./partim/J1526+3349.par 65424.0 67981.0 2 1 1\n",
      "J1722-1432 ./partim/J1722-1432.par 65789.0 67981.0 2 1 1\n",
      "J1722-3842 ./partim/J1722-3842.par 65789.0 67981.0 2 1 1\n",
      "J0938-2637 ./partim/J0938-2637.par 66154.0 67981.0 2 1 1\n",
      "J1526-1432 ./partim/J1526-1432.par 66154.0 67981.0 2 1 1\n",
      "J0023+0923 ./partim/J0023+0923.par 55927.0 67981.0 3 2 2\n",
      "J0030+0451 ./partim/J0030+0451.par 53371.0 67981.0 4 3 3\n",
      "J0337+1715 ./partim/J0337+1715.par 57754.0 67981.0 3 2 2\n",
      "J0406+3039 ./partim/J0406+3039.par 57754.0 67981.0 3 2 2\n",
      "J0509+0856 ./partim/J0509+0856.par 57754.0 67981.0 3 2 2\n",
      "J0557+1551 ./partim/J0557+1551.par 57388.0 67981.0 3 2 2\n",
      "J0621+2514 ./partim/J0621+2514.par 57388.0 67981.0 3 2 2\n",
      "J0709+0458 ./partim/J0709+0458.par 57388.0 67981.0 3 2 2\n",
      "J1022+1001 ./partim/J1022+1001.par 57388.0 67981.0 3 2 2\n",
      "B1257+12 ./partim/B1257+12.par 57388.0 67981.0 3 2 2\n",
      "J1312+0051 ./partim/J1312+0051.par 57388.0 67981.0 3 2 2\n",
      "J1453+1902 ./partim/J1453+1902.par 56658.0 67981.0 3 2 2\n",
      "J1640+2224 ./partim/J1640+2224.par 53371.0 67981.0 4 3 3\n",
      "J1713+0747 ./partim/J1713+0747.par 53371.0 67981.0 4 3 3\n",
      "J1738+0333 ./partim/J1738+0333.par 55197.0 67981.0 4 3 3\n",
      "J1741+1351 ./partim/J1741+1351.par 55197.0 67981.0 4 3 3\n",
      "J1745+1017 ./partim/J1745+1017.par 57388.0 67981.0 3 2 2\n",
      "J1853+1303 ./partim/J1853+1303.par 54832.0 67981.0 4 3 3\n",
      "B1855+09 ./partim/B1855+09.par 53371.0 67981.0 4 3 3\n",
      "J1903+0327 ./partim/J1903+0327.par 55197.0 67981.0 4 3 3\n",
      "J1910+1256 ./partim/J1910+1256.par 53371.0 67981.0 4 3 3\n",
      "J1911+1347 ./partim/J1911+1347.par 57023.0 67981.0 3 2 2\n",
      "J1923+2515 ./partim/J1923+2515.par 55562.0 67981.0 4 3 3\n",
      "J1944+0907 ./partim/J1944+0907.par 54466.0 67981.0 4 3 3\n",
      "J1946+3417 ./partim/J1946+3417.par 57023.0 67981.0 3 2 2\n",
      "B1953+29 ./partim/B1953+29.par 54101.0 67981.0 4 3 3\n",
      "J2017+0603 ./partim/J2017+0603.par 55562.0 67981.0 4 3 3\n",
      "J2033+1734 ./partim/J2033+1734.par 56658.0 67981.0 3 2 2\n",
      "J2043+1711 ./partim/J2043+1711.par 55927.0 67981.0 4 3 3\n",
      "J2214+3000 ./partim/J2214+3000.par 55197.0 67981.0 4 3 3\n",
      "J2229+2643 ./partim/J2229+2643.par 57023.0 67981.0 3 2 2\n",
      "J2234+0611 ./partim/J2234+0611.par 56658.0 67981.0 3 2 2\n",
      "J2234+0944 ./partim/J2234+0944.par 56658.0 67981.0 3 2 2\n",
      "J2317+1439 ./partim/J2317+1439.par 53371.0 67981.0 4 3 3\n",
      "J2322+2057 ./partim/J2322+2057.par 57023.0 67981.0 3 2 2\n",
      "J0318+1454 ./partim/J0318+1454.par 58484.0 67981.0 3 2 2\n",
      "J1923+1133 ./partim/J1923+1133.par 58484.0 67981.0 3 2 2\n",
      "J1705-032 ./partim/J1705-032.par 58849.0 67981.0 2 1 1\n",
      "J1923-013 ./partim/J1923-013.par 58849.0 67981.0 2 1 1\n",
      "J1705-013 ./partim/J1705-013.par 59215.0 67981.0 2 1 1\n",
      "J2141+1454 ./partim/J2141+1454.par 59215.0 67981.0 2 1 1\n",
      "J0318+1454 ./partim/J0318+1454.par 59580.0 67981.0 2 1 1\n",
      "J0536+1454 ./partim/J0536+1454.par 59580.0 67981.0 2 1 1\n",
      "J1705+1133 ./partim/J1705+1133.par 59945.0 67981.0 2 1 1\n",
      "J1229+1133 ./partim/J1229+1133.par 59945.0 67981.0 2 1 1\n",
      "J1923+3137 ./partim/J1923+3137.par 60310.0 67981.0 2 1 1\n",
      "J2141-052 ./partim/J2141-052.par 60310.0 67981.0 2 1 1\n",
      "J1705-013 ./partim/J1705-013.par 60676.0 67981.0 2 1 1\n",
      "J1705-032 ./partim/J1705-032.par 60676.0 67981.0 2 1 1\n",
      "J1923+1133 ./partim/J1923+1133.par 61041.0 67981.0 2 1 1\n",
      "J1923+1133 ./partim/J1923+1133.par 61041.0 67981.0 2 1 1\n",
      "J1705+2135 ./partim/J1705+2135.par 61406.0 67981.0 2 1 1\n",
      "J2141+2456 ./partim/J2141+2456.par 61406.0 67981.0 2 1 1\n",
      "J1705-013 ./partim/J1705-013.par 61771.0 67981.0 2 1 1\n",
      "J1923+1133 ./partim/J1923+1133.par 61771.0 67981.0 2 1 1\n",
      "J0536+1454 ./partim/J0536+1454.par 62137.0 67981.0 2 1 1\n",
      "J1923+1133 ./partim/J1923+1133.par 62137.0 67981.0 2 1 1\n",
      "J2141+2816 ./partim/J2141+2816.par 62502.0 67981.0 2 1 1\n",
      "J2141+2135 ./partim/J2141+2135.par 62502.0 67981.0 2 1 1\n",
      "J2141-013 ./partim/J2141-013.par 62867.0 67981.0 2 1 1\n",
      "J1705-013 ./partim/J1705-013.par 62867.0 67981.0 2 1 1\n",
      "J1923+2456 ./partim/J1923+2456.par 63232.0 67981.0 2 1 1\n",
      "J1923+1133 ./partim/J1923+1133.par 63232.0 67981.0 2 1 1\n",
      "J1923-013 ./partim/J1923-013.par 63598.0 67981.0 2 1 1\n",
      "J1923-013 ./partim/J1923-013.par 63598.0 67981.0 2 1 1\n",
      "J1705-032 ./partim/J1705-032.par 63963.0 67981.0 2 1 1\n",
      "J0536-013 ./partim/J0536-013.par 63963.0 67981.0 2 1 1\n",
      "J0100-013 ./partim/J0100-013.par 64328.0 67981.0 2 1 1\n",
      "J1229+1133 ./partim/J1229+1133.par 64328.0 67981.0 2 1 1\n",
      "J2141-052 ./partim/J2141-052.par 64693.0 67981.0 2 1 1\n",
      "J0536+1454 ./partim/J0536+1454.par 64693.0 67981.0 2 1 1\n",
      "J2141-052 ./partim/J2141-052.par 65059.0 67981.0 2 1 1\n",
      "J1923+2816 ./partim/J1923+2816.par 65059.0 67981.0 2 1 1\n",
      "J1229+1133 ./partim/J1229+1133.par 65424.0 67981.0 2 1 1\n",
      "J2141+2135 ./partim/J2141+2135.par 65424.0 67981.0 2 1 1\n",
      "J1923+2816 ./partim/J1923+2816.par 65789.0 67981.0 2 1 1\n",
      "J1923+1133 ./partim/J1923+1133.par 65789.0 67981.0 2 1 1\n",
      "J2141+2135 ./partim/J2141+2135.par 66154.0 67981.0 2 1 1\n",
      "J1447+1815 ./partim/J1447+1815.par 66154.0 67981.0 2 1 1\n"
     ]
    }
   ],
   "source": [
    "dsa_sims = []\n",
    "start_data = []\n",
    "for jj,name in data_copy.iterrows():\n",
    "    \n",
    "    psrname = name.PSR\n",
    "    \n",
    "    ### Start and End year\n",
    "    if np.isnan(name.RMS1):\n",
    "        start_yr = name.Epoch2\n",
    "    else:\n",
    "        start_yr = name.Epoch1\n",
    "    start_yr_mjd = year2mjd(start_yr)\n",
    "    #\n",
    "    end_yr = 2045\n",
    "    end_yr_mjd = year2mjd(end_yr)\n",
    "    \n",
    "    ### Spacing and obstimes\n",
    "    spacing = 365.25 / 20.0 # days between observations\n",
    "    #\n",
    "    obstimes = np.arange(start_yr_mjd, end_yr_mjd, spacing)\n",
    "    \n",
    "    ### Segmenting obstimes based on hardware/telescope switches\n",
    "    stops = []\n",
    "    errors = []\n",
    "    if np.isnan(name.RMS1):\n",
    "        stops.append(year2mjd(name.Epoch2))\n",
    "        errors.append(name.RMS2)\n",
    "    else:\n",
    "        stops.append(year2mjd(name.Epoch1))\n",
    "        stops.append(year2mjd(name.Epoch2))\n",
    "        errors.append(name.RMS1)\n",
    "        errors.append(name.RMS2)\n",
    "    #\n",
    "    if np.isnan(name.RMS3):\n",
    "        stops.append(end_yr_mjd)\n",
    "    else:\n",
    "        stops.append(year2mjd(name.Epoch3))\n",
    "        errors.append(name.RMS3)\n",
    "        if np.isnan(name.RMS4):\n",
    "            stops.append(end_yr_mjd)\n",
    "        else:\n",
    "            stops.append(year2mjd(name.Epoch4))\n",
    "            errors.append(name.RMS4)\n",
    "            if np.isnan(name.RMS5):\n",
    "                stops.append(end_yr_mjd)\n",
    "            else:\n",
    "                stops.append(year2mjd(name.Epoch5))\n",
    "                stops.append(end_yr_mjd)\n",
    "                errors.append(name.RMS5)\n",
    "    \n",
    "    ### Masking sections of data based on these stops\n",
    "    masks = []\n",
    "    for kk,stop in enumerate(stops):\n",
    "        if kk < len(stops)-1:\n",
    "            masks.append(np.logical_and(obstimes >= stops[kk], \n",
    "                                        obstimes <= stops[kk+1]))\n",
    "    \n",
    "    ### Applying RMS errors\n",
    "    toa_errs = np.ones_like(obstimes)\n",
    "    for kk,mask in enumerate(masks):\n",
    "        toa_errs[mask] *= float(errors[kk])\n",
    "    \n",
    "    ### Make fake dataset\n",
    "    par = './partim/' + psrname + '.par'\n",
    "    dsa_sims.append(LT.fakepulsar(par, obstimes, toa_errs))\n",
    "    # white noise\n",
    "    LT.add_efac(dsa_sims[jj])\n",
    "    # save .tim\n",
    "    dsa_sims[jj].savetim('./partim/' + dsa_sims[jj].name + '.tim')\n",
    "    ###\n",
    "    \n",
    "    start_data.append([psrname, start_yr, start_yr_mjd])\n",
    "    print psrname, par, start_yr_mjd, end_yr_mjd, len(stops), len(masks), len(errors)"
   ]
  },
  {
   "cell_type": "code",
   "execution_count": 450,
   "metadata": {
    "ExecuteTime": {
     "end_time": "2018-11-05T22:27:47.127638Z",
     "start_time": "2018-11-05T22:27:47.087006Z"
    }
   },
   "outputs": [],
   "source": [
    "start_data = np.array(start_data)\n",
    "start_data[start_data[:,1].argsort()]\n",
    "\n",
    "fil = open('sims_psr_startdata.txt','w')\n",
    "for line in start_data[start_data[:,1].argsort()]:\n",
    "    print >>fil, line[0], line[1], line[2]\n",
    "fil.close()"
   ]
  },
  {
   "cell_type": "markdown",
   "metadata": {},
   "source": [
    "# Read In And Check Pulsars"
   ]
  },
  {
   "cell_type": "code",
   "execution_count": 442,
   "metadata": {
    "ExecuteTime": {
     "end_time": "2018-11-05T22:23:13.290613Z",
     "start_time": "2018-11-05T22:23:13.250014Z"
    }
   },
   "outputs": [],
   "source": [
    "import enterprise\n",
    "from enterprise.pulsar import Pulsar\n",
    "from enterprise.signals import parameter\n",
    "from enterprise.signals import white_signals\n",
    "from enterprise.signals import gp_signals\n",
    "from enterprise.signals import signal_base\n",
    "\n",
    "import enterprise_extensions\n",
    "from enterprise_extensions import models, model_utils"
   ]
  },
  {
   "cell_type": "code",
   "execution_count": 443,
   "metadata": {
    "ExecuteTime": {
     "end_time": "2018-11-05T22:23:15.150050Z",
     "start_time": "2018-11-05T22:23:13.535145Z"
    },
    "collapsed": true
   },
   "outputs": [],
   "source": [
    "psr = Pulsar('./partim/J0613-0200.par', './partim/J0613-0200.tim', ephem='DE436')"
   ]
  },
  {
   "cell_type": "code",
   "execution_count": 444,
   "metadata": {
    "ExecuteTime": {
     "end_time": "2018-11-05T22:23:15.768368Z",
     "start_time": "2018-11-05T22:23:15.152378Z"
    }
   },
   "outputs": [
    {
     "data": {
      "text/plain": [
       "<matplotlib.text.Text at 0x2211cf1490>"
      ]
     },
     "execution_count": 444,
     "metadata": {},
     "output_type": "execute_result"
    },
    {
     "data": {
      "image/png": "[encoded data removed]",
      "text/plain": [
       "<matplotlib.figure.Figure at 0x223618f250>"
      ]
     },
     "metadata": {
      "image/png": {
       "height": 447,
       "width": 622
      }
     },
     "output_type": "display_data"
    }
   ],
   "source": [
    "plt.errorbar([mjd2year(p) for p in psr.toas/86400.0], psr.residuals/1e-6, psr.toaerrs/1e-6, alpha=0.3)\n",
    "plt.xlabel(r'Year')\n",
    "plt.ylabel(r'Residuals [$\\mu$s]')\n",
    "plt.title(psr.name)"
   ]
  },
  {
   "cell_type": "code",
   "execution_count": null,
   "metadata": {
    "collapsed": true
   },
   "outputs": [],
   "source": []
  }
 ],
 "metadata": {
  "extensions": {
   "jupyter_dashboards": {
    "activeView": "grid_default",
    "version": 1,
    "views": {
     "grid_default": {
      "cellMargin": 10,
      "defaultCellHeight": 20,
      "maxColumns": 12,
      "name": "grid",
      "type": "grid"
     },
     "report_default": {
      "name": "report",
      "type": "report"
     }
    }
   }
  },
  "kernelspec": {
   "display_name": "Python 2",
   "language": "python",
   "name": "python2"
  },
  "language_info": {
   "codemirror_mode": {
    "name": "ipython",
    "version": 2
   },
   "file_extension": ".py",
   "mimetype": "text/x-python",
   "name": "python",
   "nbconvert_exporter": "python",
   "pygments_lexer": "ipython2",
   "version": "2.7.15"
  },
  "toc": {
   "nav_menu": {},
   "number_sections": true,
   "sideBar": true,
   "skip_h1_title": false,
   "toc_cell": false,
   "toc_position": {
    "height": "731px",
    "left": "0px",
    "right": "1228px",
    "top": "106px",
    "width": "212px"
   },
   "toc_section_display": "block",
   "toc_window_display": true
  }
 },
 "nbformat": 4,
 "nbformat_minor": 2
}
